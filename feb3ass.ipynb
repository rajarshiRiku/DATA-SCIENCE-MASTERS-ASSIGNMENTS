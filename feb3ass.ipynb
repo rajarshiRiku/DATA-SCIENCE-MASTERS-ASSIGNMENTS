{
 "cells": [
  {
   "cell_type": "markdown",
   "id": "976263c5-885f-4e59-ab90-c0f79fd62ea1",
   "metadata": {},
   "source": [
    "def keyword is used to create a function"
   ]
  },
  {
   "cell_type": "code",
   "execution_count": 1,
   "id": "98f1e245-1394-4188-a987-936b08e590e5",
   "metadata": {},
   "outputs": [],
   "source": [
    "def func():\n",
    "    n=[]\n",
    "    for i in range(1,25):\n",
    "        if i%2!=0:\n",
    "            n.append(i)\n",
    "    return n"
   ]
  },
  {
   "cell_type": "code",
   "execution_count": 2,
   "id": "9d3939d7-90aa-4e1f-a52a-eae0a110b48a",
   "metadata": {},
   "outputs": [
    {
     "data": {
      "text/plain": [
       "[1, 3, 5, 7, 9, 11, 13, 15, 17, 19, 21, 23]"
      ]
     },
     "execution_count": 2,
     "metadata": {},
     "output_type": "execute_result"
    }
   ],
   "source": [
    "func()"
   ]
  },
  {
   "cell_type": "markdown",
   "id": "b9bf5656-d426-44c8-967a-07e4fea99769",
   "metadata": {},
   "source": [
    "*args is used in some functions when the function has to take n no of arguments\n",
    "**kwargs is used in some functions which has to take keys and values as arguments"
   ]
  },
  {
   "cell_type": "code",
   "execution_count": 3,
   "id": "aebad26b-a93d-4744-927b-58703d9ca2b7",
   "metadata": {},
   "outputs": [],
   "source": [
    "def test(*args):\n",
    "    return args"
   ]
  },
  {
   "cell_type": "code",
   "execution_count": 4,
   "id": "7ae4cbc2-a084-427f-8055-3a262ca97501",
   "metadata": {},
   "outputs": [
    {
     "data": {
      "text/plain": [
       "(1, 2, 3, 'riku', [1, 2, 3], (1, 2, 3, 'hello'))"
      ]
     },
     "execution_count": 4,
     "metadata": {},
     "output_type": "execute_result"
    }
   ],
   "source": [
    "test(1,2,3,'riku',[1,2,3],(1,2,3,'hello'))"
   ]
  },
  {
   "cell_type": "code",
   "execution_count": 5,
   "id": "cf582330-97ec-4d44-aeb7-f4fdd28a6b75",
   "metadata": {},
   "outputs": [],
   "source": [
    "def t3(**kwargs):\n",
    "    return kwargs"
   ]
  },
  {
   "cell_type": "code",
   "execution_count": 6,
   "id": "c111478e-f90a-40a5-97c8-31097685c8f9",
   "metadata": {},
   "outputs": [
    {
     "data": {
      "text/plain": [
       "{'a': 'riku', 'b': [1, 2, 3, 4], 'c': (1, 2, 3)}"
      ]
     },
     "execution_count": 6,
     "metadata": {},
     "output_type": "execute_result"
    }
   ],
   "source": [
    "t3(a='riku',b=[1,2,3,4],c=(1,2,3))"
   ]
  },
  {
   "cell_type": "markdown",
   "id": "e10b09f8-c758-4d08-b2d9-f0374e8fe7d4",
   "metadata": {},
   "source": [
    "An iterator is an object that contains a countable number of values."
   ]
  },
  {
   "cell_type": "markdown",
   "id": "ed6760d4-15b4-4214-bbe7-65349b6e4561",
   "metadata": {},
   "source": [
    "Instantiating the Iterator in Python\n",
    "Iter() method is used to initialize the iterator object so that the instance of this object can be used for iterating."
   ]
  },
  {
   "cell_type": "code",
   "execution_count": 6,
   "id": "eb3e1d5f-1fe8-49ba-bd9a-9276d5abef0a",
   "metadata": {},
   "outputs": [
    {
     "name": "stdout",
     "output_type": "stream",
     "text": [
      "2\n",
      "4\n",
      "6\n",
      "8\n",
      "10\n"
     ]
    }
   ],
   "source": [
    "l=[2,4,6,8,10,12,14,16,18,20]\n",
    "\n",
    "firstfive = iter(l)\n",
    "print(next(firstfive))\n",
    "print(next(firstfive))\n",
    "print(next(firstfive))\n",
    "print(next(firstfive))\n",
    "print(next(firstfive))"
   ]
  },
  {
   "cell_type": "markdown",
   "id": "e6495b70-a100-4be3-96ca-b5ac4ccc7366",
   "metadata": {},
   "source": [
    "A Python generator function allows you to declare a function that behaves like an iterator, providing a faster and easier way to create iterators. They can be used on an abstract container of data to turn it into an iterable object like lists, dictionaries and strings."
   ]
  },
  {
   "cell_type": "markdown",
   "id": "49368dbf-7449-479c-a317-fbd1b21b87c6",
   "metadata": {},
   "source": [
    " the yield keyword will convert an expression that is specified along with it to a generator object and return it to the caller."
   ]
  },
  {
   "cell_type": "code",
   "execution_count": 7,
   "id": "ed829e5d-53d2-462f-932e-ffe795526ce7",
   "metadata": {},
   "outputs": [],
   "source": [
    "def fib(n):\n",
    "    a,b=0,1\n",
    "    for i in range(n):\n",
    "        yield a\n",
    "        a,b = b,a+b\n",
    "        "
   ]
  },
  {
   "cell_type": "code",
   "execution_count": 8,
   "id": "817c0a81-96f0-432c-a866-e25dff0dcee3",
   "metadata": {},
   "outputs": [
    {
     "data": {
      "text/plain": [
       "<generator object fib at 0x7f6c8c174200>"
      ]
     },
     "execution_count": 8,
     "metadata": {},
     "output_type": "execute_result"
    }
   ],
   "source": [
    "fib(6)"
   ]
  },
  {
   "cell_type": "code",
   "execution_count": 9,
   "id": "6ad48fe4-9198-4f3e-8c6d-b0540ba03bbb",
   "metadata": {},
   "outputs": [
    {
     "name": "stdout",
     "output_type": "stream",
     "text": [
      "0\n",
      "1\n",
      "1\n",
      "2\n",
      "3\n",
      "5\n"
     ]
    }
   ],
   "source": [
    "for i in fib(6):\n",
    "    print (i)"
   ]
  },
  {
   "cell_type": "code",
   "execution_count": 2,
   "id": "e87d189d-0323-4732-85d8-b5437e6745e5",
   "metadata": {},
   "outputs": [],
   "source": [
    "def prime_numbers():\n",
    "    yield 2\n",
    "    yield 3\n",
    "    yield 5\n",
    "    yield 7\n",
    "    for num in range(11, 1000, 2):\n",
    "        for divisor in range(3, int(num ** 0.5) + 1, 2):\n",
    "            if num % divisor == 0:\n",
    "                break\n",
    "        else:\n",
    "            yield num\n"
   ]
  },
  {
   "cell_type": "code",
   "execution_count": 4,
   "id": "b96438c1-42ca-43a5-8592-5865c29b8eed",
   "metadata": {},
   "outputs": [
    {
     "data": {
      "text/plain": [
       "<generator object prime_numbers at 0x7f3e2c7f33e0>"
      ]
     },
     "execution_count": 4,
     "metadata": {},
     "output_type": "execute_result"
    }
   ],
   "source": [
    "prime_numbers()"
   ]
  },
  {
   "cell_type": "code",
   "execution_count": 5,
   "id": "88416a26-a1e2-4e7f-86dc-dd1ad64b4c8a",
   "metadata": {},
   "outputs": [
    {
     "name": "stdout",
     "output_type": "stream",
     "text": [
      "2\n",
      "3\n",
      "5\n",
      "7\n",
      "11\n",
      "13\n",
      "17\n",
      "19\n",
      "23\n",
      "29\n",
      "31\n",
      "37\n",
      "41\n",
      "43\n",
      "47\n",
      "53\n",
      "59\n",
      "61\n",
      "67\n",
      "71\n",
      "73\n",
      "79\n",
      "83\n",
      "89\n",
      "97\n",
      "101\n",
      "103\n",
      "107\n",
      "109\n",
      "113\n",
      "127\n",
      "131\n",
      "137\n",
      "139\n",
      "149\n",
      "151\n",
      "157\n",
      "163\n",
      "167\n",
      "173\n",
      "179\n",
      "181\n",
      "191\n",
      "193\n",
      "197\n",
      "199\n",
      "211\n",
      "223\n",
      "227\n",
      "229\n",
      "233\n",
      "239\n",
      "241\n",
      "251\n",
      "257\n",
      "263\n",
      "269\n",
      "271\n",
      "277\n",
      "281\n",
      "283\n",
      "293\n",
      "307\n",
      "311\n",
      "313\n",
      "317\n",
      "331\n",
      "337\n",
      "347\n",
      "349\n",
      "353\n",
      "359\n",
      "367\n",
      "373\n",
      "379\n",
      "383\n",
      "389\n",
      "397\n",
      "401\n",
      "409\n",
      "419\n",
      "421\n",
      "431\n",
      "433\n",
      "439\n",
      "443\n",
      "449\n",
      "457\n",
      "461\n",
      "463\n",
      "467\n",
      "479\n",
      "487\n",
      "491\n",
      "499\n",
      "503\n",
      "509\n",
      "521\n",
      "523\n",
      "541\n",
      "547\n",
      "557\n",
      "563\n",
      "569\n",
      "571\n",
      "577\n",
      "587\n",
      "593\n",
      "599\n",
      "601\n",
      "607\n",
      "613\n",
      "617\n",
      "619\n",
      "631\n",
      "641\n",
      "643\n",
      "647\n",
      "653\n",
      "659\n",
      "661\n",
      "673\n",
      "677\n",
      "683\n",
      "691\n",
      "701\n",
      "709\n",
      "719\n",
      "727\n",
      "733\n",
      "739\n",
      "743\n",
      "751\n",
      "757\n",
      "761\n",
      "769\n",
      "773\n",
      "787\n",
      "797\n",
      "809\n",
      "811\n",
      "821\n",
      "823\n",
      "827\n",
      "829\n",
      "839\n",
      "853\n",
      "857\n",
      "859\n",
      "863\n",
      "877\n",
      "881\n",
      "883\n",
      "887\n",
      "907\n",
      "911\n",
      "919\n",
      "929\n",
      "937\n",
      "941\n",
      "947\n",
      "953\n",
      "967\n",
      "971\n",
      "977\n",
      "983\n",
      "991\n",
      "997\n"
     ]
    }
   ],
   "source": [
    "for i in prime_numbers():\n",
    "    print(i)"
   ]
  },
  {
   "cell_type": "code",
   "execution_count": 6,
   "id": "799a1955-bac3-4e80-8782-814199696f45",
   "metadata": {},
   "outputs": [
    {
     "name": "stdout",
     "output_type": "stream",
     "text": [
      "2\n",
      "3\n",
      "5\n",
      "7\n",
      "11\n",
      "13\n",
      "17\n",
      "19\n",
      "23\n",
      "29\n",
      "31\n",
      "37\n",
      "41\n",
      "43\n",
      "47\n",
      "53\n",
      "59\n",
      "61\n",
      "67\n",
      "71\n"
     ]
    }
   ],
   "source": [
    "# Define the prime_numbers() generator function\n",
    "\n",
    "def prime_numbers():\n",
    "    yield 2\n",
    "    yield 3\n",
    "    yield 5\n",
    "    yield 7\n",
    "    for num in range(11, 1000, 2):\n",
    "        for divisor in range(3, int(num ** 0.5) + 1, 2):\n",
    "            if num % divisor == 0:\n",
    "                break\n",
    "        else:\n",
    "            yield num\n",
    "\n",
    "prime_gen = prime_numbers()\n",
    "\n",
    "for i in range(20):\n",
    "    print(next(prime_gen))\n"
   ]
  },
  {
   "cell_type": "code",
   "execution_count": 11,
   "id": "f136cc5a-7010-4711-a130-49dde84d3471",
   "metadata": {},
   "outputs": [],
   "source": [
    "def prime(n):\n",
    "    for i in range(3,n):\n",
    "        for j in range(1,i):\n",
    "            if i%j==0:\n",
    "                print(i)"
   ]
  },
  {
   "cell_type": "raw",
   "id": "934336ab-6ca0-44d9-9d69-de9f4af331b9",
   "metadata": {},
   "source": [
    "prime(20)"
   ]
  },
  {
   "cell_type": "code",
   "execution_count": null,
   "id": "d326c809-3cc9-476b-968d-17ea721ddd93",
   "metadata": {},
   "outputs": [],
   "source": []
  }
 ],
 "metadata": {
  "kernelspec": {
   "display_name": "Python 3 (ipykernel)",
   "language": "python",
   "name": "python3"
  },
  "language_info": {
   "codemirror_mode": {
    "name": "ipython",
    "version": 3
   },
   "file_extension": ".py",
   "mimetype": "text/x-python",
   "name": "python",
   "nbconvert_exporter": "python",
   "pygments_lexer": "ipython3",
   "version": "3.10.8"
  }
 },
 "nbformat": 4,
 "nbformat_minor": 5
}
